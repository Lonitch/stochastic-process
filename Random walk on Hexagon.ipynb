{
 "cells": [
  {
   "cell_type": "markdown",
   "metadata": {},
   "source": [
    "### Random Walk on Hexagon\n",
    "\n",
    "*Exercise 3-67 from Robert Dobrow's book*"
   ]
  },
  {
   "cell_type": "code",
   "execution_count": 9,
   "metadata": {},
   "outputs": [],
   "source": [
    "import numpy as np\n",
    "\n",
    "dice = [1,2,3,4,5,6]\n",
    "def roll(num):\n",
    "    global dice\n",
    "    ans = 0\n",
    "    while num>0:\n",
    "        result = np.random.choice(dice, size=num,replace=True)\n",
    "        num -= sum(result==6)\n",
    "        ans+=1\n",
    "    return ans"
   ]
  },
  {
   "cell_type": "code",
   "execution_count": 11,
   "metadata": {},
   "outputs": [
    {
     "name": "stdout",
     "output_type": "stream",
     "text": [
      "Expectation of the roll number: 13.0364\n"
     ]
    }
   ],
   "source": [
    "rep =10000\n",
    "expect = 0\n",
    "num_dice = 5\n",
    "for i in range(rep):\n",
    "    expect+=roll(num_dice)\n",
    "print('Expectation of the roll number: {}'.format(expect/rep))"
   ]
  }
 ],
 "metadata": {
  "kernelspec": {
   "display_name": "Python 3",
   "language": "python",
   "name": "python3"
  },
  "language_info": {
   "codemirror_mode": {
    "name": "ipython",
    "version": 3
   },
   "file_extension": ".py",
   "mimetype": "text/x-python",
   "name": "python",
   "nbconvert_exporter": "python",
   "pygments_lexer": "ipython3",
   "version": "3.7.4"
  }
 },
 "nbformat": 4,
 "nbformat_minor": 2
}
