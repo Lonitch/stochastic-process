{
 "cells": [
  {
   "cell_type": "markdown",
   "metadata": {},
   "source": [
    "Bartolomeo et al. (2011) develops such a model to study the progression of liver disease among patients diagnosed with cirrhosis of the liver. The general form of the infinitesimal generator matrix for their three-parameter model is\n",
    "$$\n",
    "\\left(\\begin{array}{ccc}{1} & {2} & {3} \\\\ {-\\left(q_{12}+q_{13}\\right)} & {q_{12}} & {q_{13}} \\\\ {0} & {-q_{23}} & {q_{23}} \\\\ {0} & {0} & {0}\\end{array}\\right)\n",
    "$$\n",
    "where state 1 represents cirrhosis, state 2 denotes liver cancer (hepatocellular carcinoma), and state 3 is death.\n",
    "\n",
    "From a sample of 1,925 patients diagnosed with cirrhosis, and data on the number of months at each stage of the disease, the authors estimate the parameters of the model for subgroups depending on age, gender, and other variables. Their mean parameter estimates are\n",
    "$$\n",
    "\\widehat{q_{12}}=0.0151, \\widehat{q_{13}}=0.0071, \\text { and } \\widehat{q_{23}}=0.0284\n",
    "$$\n",
    "\n",
    "Here we test the mean time to death from **state 1**\n",
    "\n",
    "**This simulation emphasizes the alarm clock analogue to continuous-time Markov chain**"
   ]
  },
  {
   "cell_type": "code",
   "execution_count": 8,
   "metadata": {},
   "outputs": [],
   "source": [
    "from scipy.stats import expon\n",
    "qij = [0.0151, 0.0071, 0.0284]\n",
    "def progress():\n",
    "    ts = 0\n",
    "    s0=1\n",
    "    while s0!=3:\n",
    "        if s0==1:\n",
    "            t2 = expon.rvs()/0.0151\n",
    "            t3 = expon.rvs()/0.0071\n",
    "            if (t2<t3):\n",
    "                s0=2\n",
    "                ts+=t2\n",
    "            else:\n",
    "                s0=3\n",
    "                ts+=t3\n",
    "        elif s0==2:\n",
    "            t3 = expon.rvs()/0.0284\n",
    "            ts+=t3\n",
    "            s0=3\n",
    "    return ts"
   ]
  },
  {
   "cell_type": "code",
   "execution_count": 10,
   "metadata": {},
   "outputs": [
    {
     "name": "stdout",
     "output_type": "stream",
     "text": [
      "mean progression time is 68.82626617751994\n"
     ]
    }
   ],
   "source": [
    "rep = 10000\n",
    "count = 0\n",
    "for i in range(rep):\n",
    "    count+=progress()\n",
    "print(\"mean progression time is {}\".format(count/rep))"
   ]
  },
  {
   "cell_type": "markdown",
   "metadata": {},
   "source": [
    "The mean time given in the paper is 69 months"
   ]
  }
 ],
 "metadata": {
  "kernelspec": {
   "display_name": "Python 3",
   "language": "python",
   "name": "python3"
  },
  "language_info": {
   "codemirror_mode": {
    "name": "ipython",
    "version": 3
   },
   "file_extension": ".py",
   "mimetype": "text/x-python",
   "name": "python",
   "nbconvert_exporter": "python",
   "pygments_lexer": "ipython3",
   "version": "3.7.4"
  }
 },
 "nbformat": 4,
 "nbformat_minor": 2
}
