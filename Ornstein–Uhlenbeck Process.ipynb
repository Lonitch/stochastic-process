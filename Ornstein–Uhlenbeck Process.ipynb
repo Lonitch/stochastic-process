{
 "cells": [
  {
   "cell_type": "markdown",
   "metadata": {},
   "source": [
    "The Ornstein–Uhlenbeck process, called the Langevin equation in physics, arose as an attempt to model the velocity of Brownian motion.The process is called **mean-reverting** as there is a tendency, over time, to reach an equilibrium position. The SDE for the Ornstein–Uhlenbeck process is\n",
    "$$\n",
    "d X_{t}=-r\\left(X_{t}-\\mu\\right) d t+\\sigma B_{t}\n",
    "$$\n",
    "let\n",
    "$$\n",
    "X_{i+1}=X_{i}-r\\left(X_{i}-\\mu\\right) T / n+\\sigma \\sqrt{T / n} Z_{i}, \\text { for } i=0,1, \\ldots, n-1\n",
    "$$\n",
    "With $n=1000,$ we generate the process with $X_{0}=2, \\mu=-1, r=0.5,$ and $\\sigma=0.1 .$ here. We also calculate the expectation of $X_{10}$ here. According to Ito's lemma, we have\n",
    "$$\n",
    "E\\left(X_{10}\\right)=\\mu+\\left(X_{0}-\\mu\\right) e^{-r(10)}=-1+3 e^{-5}=-0.9798\n",
    "$$"
   ]
  },
  {
   "cell_type": "code",
   "execution_count": 1,
   "metadata": {},
   "outputs": [],
   "source": [
    "from scipy.stats import norm\n",
    "import numpy as np\n",
    "\n",
    "X0 = 2\n",
    "mu = -1\n",
    "r = 0.5\n",
    "sigma=0.1\n",
    "n=1000\n",
    "T = 10\n",
    "\n",
    "def O_U_process():\n",
    "    global X0, mu, r, sigma, n, T\n",
    "    x = X0\n",
    "    Xs = [x]\n",
    "    rv = norm()\n",
    "    Zs = rv.rvs(size=n-1)\n",
    "    for i in range(n-1):\n",
    "        temp = Xs[-1]-r*(Xs[-1]-mu)*(T/n)+sigma*np.sqrt(T/n)*Zs[i]\n",
    "        Xs.append(temp)\n",
    "    return Xs    "
   ]
  },
  {
   "cell_type": "code",
   "execution_count": 5,
   "metadata": {},
   "outputs": [
    {
     "data": {
      "text/plain": [
       "<matplotlib.lines.Line2D at 0x268b44b4488>"
      ]
     },
     "execution_count": 5,
     "metadata": {},
     "output_type": "execute_result"
    },
    {
     "data": {
      "image/png": "[encoded data removed]",
      "text/plain": [
       "<Figure size 432x288 with 1 Axes>"
      ]
     },
     "metadata": {
      "needs_background": "light"
     },
     "output_type": "display_data"
    }
   ],
   "source": [
    "%matplotlib inline\n",
    "import matplotlib.pyplot as plt\n",
    "\n",
    "simlst = O_U_process()\n",
    "plt.plot(np.linspace(0,T,n),simlst,'-')\n",
    "plt.ylabel(\"$X_i$\")\n",
    "plt.xlabel(\"$time$\")\n",
    "plt.axhline(y=-1,color='r', linestyle='--')"
   ]
  },
  {
   "cell_type": "code",
   "execution_count": 9,
   "metadata": {},
   "outputs": [
    {
     "name": "stdout",
     "output_type": "stream",
     "text": [
      "the mean of X10 is -0.9801175353849685\n"
     ]
    }
   ],
   "source": [
    "rep = 10000\n",
    "x10_mean = 0\n",
    "for i in range(rep):\n",
    "    x10_mean+=O_U_process()[-1]\n",
    "print(\"the mean of X10 is {}\".format(x10_mean/rep))"
   ]
  }
 ],
 "metadata": {
  "kernelspec": {
   "display_name": "Python 3",
   "language": "python",
   "name": "python3"
  },
  "language_info": {
   "codemirror_mode": {
    "name": "ipython",
    "version": 3
   },
   "file_extension": ".py",
   "mimetype": "text/x-python",
   "name": "python",
   "nbconvert_exporter": "python",
   "pygments_lexer": "ipython3",
   "version": "3.7.4"
  }
 },
 "nbformat": 4,
 "nbformat_minor": 2
}
