{
 "cells": [
  {
   "cell_type": "markdown",
   "metadata": {},
   "source": [
    "### Simulating Lung Cancer Growth\n",
    "\n",
    "*Newton et al. (2012) use simulation to estimate the mean first passage time—the number of steps, on average, it takes for cancer to pass from the lung to each other location in the body, “something a static autopsy data set cannot give us directly.” The authors conclude that their study gives “important baseline quantitative insight into the structure of lung cancer progression networks.”*"
   ]
  },
  {
   "cell_type": "code",
   "execution_count": 26,
   "metadata": {},
   "outputs": [],
   "source": [
    "import numpy as np\n",
    "\n",
    "# Get transition matrix\n",
    "data = np.genfromtxt('lungcancer.csv', dtype=float, delimiter=',', names=True)\n",
    "P = []\n",
    "for i in range(50):\n",
    "    P.append(list(data[i]))\n",
    "# Correct distribution that does not sum up to 1\n",
    "P = np.array(P)\n",
    "for i in range(50):\n",
    "    P[i] = P[i]/np.sum(P[i])"
   ]
  },
  {
   "cell_type": "code",
   "execution_count": 27,
   "metadata": {},
   "outputs": [],
   "source": [
    "def markov(init, mat, num):\n",
    "    # init: initial distribution to generate a start on the graph\n",
    "    # mat: transition matrix\n",
    "    # num: number of nodes on graph needs to visit\n",
    "    # \n",
    "    nodelst = list(range(50))\n",
    "    curr = np.random.choice(nodelst, p=init)\n",
    "    visited = [curr]\n",
    "    passage_time=0\n",
    "    while len(visited)<num:\n",
    "        curr = np.random.choice(nodelst, p=mat[curr])\n",
    "        if curr not in visited:\n",
    "            visited.append(curr)\n",
    "        passage_time+=1\n",
    "        \n",
    "    return passage_time"
   ]
  },
  {
   "cell_type": "code",
   "execution_count": 28,
   "metadata": {},
   "outputs": [],
   "source": [
    "# Prepare initial distribution\n",
    "# Always starts from node #23\n",
    "p0 = np.zeros(50)\n",
    "p0[22] = 1"
   ]
  },
  {
   "cell_type": "code",
   "execution_count": 51,
   "metadata": {},
   "outputs": [],
   "source": [
    "# Check mean passage-time for cancer to cover 10-24 nodes\n",
    "pt = np.zeros(15)\n",
    "rep = 1000\n",
    "for n in range(10, 25):\n",
    "    temp = 0\n",
    "    for i in range(rep): #repeat each n-passage time for 50 times\n",
    "        temp+= markov(p0, P, n)\n",
    "    pt[n-10] = temp/rep"
   ]
  },
  {
   "cell_type": "code",
   "execution_count": 53,
   "metadata": {},
   "outputs": [
    {
     "data": {
      "text/plain": [
       "Text(0.5, 1.0, 'Lung Cancer Evolution')"
      ]
     },
     "execution_count": 53,
     "metadata": {},
     "output_type": "execute_result"
    },
    {
     "data": {
      "image/png": "[encoded data removed]",
      "text/plain": [
       "<Figure size 432x288 with 1 Axes>"
      ]
     },
     "metadata": {
      "needs_background": "light"
     },
     "output_type": "display_data"
    }
   ],
   "source": [
    "%matplotlib inline\n",
    "import matplotlib.pyplot as plt\n",
    "\n",
    "plt.plot(list(range(10,25)), pt, 'o-')\n",
    "plt.xlabel('# of nodes')\n",
    "plt.ylabel('mean passage time')\n",
    "plt.title('Lung Cancer Evolution')"
   ]
  }
 ],
 "metadata": {
  "kernelspec": {
   "display_name": "Python 3",
   "language": "python",
   "name": "python3"
  },
  "language_info": {
   "codemirror_mode": {
    "name": "ipython",
    "version": 3
   },
   "file_extension": ".py",
   "mimetype": "text/x-python",
   "name": "python",
   "nbconvert_exporter": "python",
   "pygments_lexer": "ipython3",
   "version": "3.7.4"
  }
 },
 "nbformat": 4,
 "nbformat_minor": 2
}
