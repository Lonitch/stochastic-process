{
 "cells": [
  {
   "cell_type": "markdown",
   "metadata": {},
   "source": [
    "In the continuous-time version, there $N$ fleas distributed between two dogs. Fleas jump from one dog to another independently at rate $\\lambda$. Let $X_{t}$ denote the number of fleas on the first dog.\n",
    "\n",
    "    (a) Find the stationary distribution.\n",
    "    (b) Assume that fleas jump at the rate of 2 per minute. If there are 10 fleas on\n",
    "    Cooper and no fleas on Lisa, how long, on average, will it take for Lisa to\n",
    "    get 4 fleas?"
   ]
  },
  {
   "cell_type": "markdown",
   "metadata": {},
   "source": [
    "For (a), we have local balance of $r_{cooper->lisa}=r_{lisa->cooper}$. If the stationary distribution is $\\mathbf{\\pi}$, we have: \n",
    "$$\\pi_i(N-i)\\lambda=\\pi_{i+1}(i+1)\\lambda$$\n",
    "This system leads to\n",
    "$$\\pi_{k}=\\left(\\begin{array}{c}{N} \\\\ {k}\\end{array}\\right)\\left(\\frac{1}{2}\\right)^{k}, \\text { for } k=0,1, \\ldots, N$$"
   ]
  },
  {
   "cell_type": "markdown",
   "metadata": {},
   "source": [
    "For (b), Let us build a generator matrix first"
   ]
  },
  {
   "cell_type": "code",
   "execution_count": 4,
   "metadata": {},
   "outputs": [
    {
     "name": "stdout",
     "output_type": "stream",
     "text": [
      "wait 0.29365079365079366 min till 4 fleas on Lisa\n"
     ]
    }
   ],
   "source": [
    "from numpy.linalg import inv\n",
    "import numpy as np\n",
    "\n",
    "lam=2\n",
    "N =10\n",
    "Q = np.array([[-20,20,0,0],[2,-20,18,0],\n",
    "     [0,4,-20,16],[0,0,6,-20]])\n",
    "t=inv(-Q)\n",
    "print('wait {} min till 4 fleas on Lisa'.format(np.sum(t,axis=1)[0]))"
   ]
  },
  {
   "cell_type": "code",
   "execution_count": 19,
   "metadata": {},
   "outputs": [
    {
     "name": "stdout",
     "output_type": "stream",
     "text": [
      "simulated expectation is 0.29468997287590665\n"
     ]
    }
   ],
   "source": [
    "# Now, let's use simulation to verify\n",
    "from scipy.stats import expon\n",
    "def evolve(lam=2, n=10, target=4):\n",
    "    te = 0\n",
    "    s=0\n",
    "    while s!=target:\n",
    "        if s!=0:\n",
    "            tl = np.min(expon.rvs(size=s)/lam)\n",
    "            tc = np.min(expon.rvs(size=n-s)/lam)\n",
    "            if tl<tc:\n",
    "                s-=1\n",
    "            else:\n",
    "                s+=1\n",
    "            te+=min(tl,tc)\n",
    "        else:\n",
    "            s+=1\n",
    "            te+=np.min(expon.rvs(size=n)/lam)\n",
    "    return te\n",
    "\n",
    "rep = 100000\n",
    "ans = 0\n",
    "for i in range(rep):\n",
    "    ans+=evolve()\n",
    "print(\"simulated expectation is {}\".format(ans/rep))"
   ]
  },
  {
   "cell_type": "markdown",
   "metadata": {},
   "source": [
    "Two results match, well, guess there is smt wrong with the answer in the book."
   ]
  }
 ],
 "metadata": {
  "kernelspec": {
   "display_name": "Python 3",
   "language": "python",
   "name": "python3"
  },
  "language_info": {
   "codemirror_mode": {
    "name": "ipython",
    "version": 3
   },
   "file_extension": ".py",
   "mimetype": "text/x-python",
   "name": "python",
   "nbconvert_exporter": "python",
   "pygments_lexer": "ipython3",
   "version": "3.7.4"
  }
 },
 "nbformat": 4,
 "nbformat_minor": 2
}
