{
 "cells": [
  {
   "cell_type": "markdown",
   "metadata": {},
   "source": [
    "### Exercise 3.17\n",
    "from Robert Dobrow's book"
   ]
  },
  {
   "cell_type": "code",
   "execution_count": 2,
   "metadata": {},
   "outputs": [
    {
     "data": {
      "text/plain": [
       "array([[9.33263619e-302, 1.00000000e+000],\n",
       "       [0.00000000e+000, 1.00000000e+000]])"
      ]
     },
     "execution_count": 2,
     "metadata": {},
     "output_type": "execute_result"
    }
   ],
   "source": [
    "import numpy as np\n",
    "from numpy.linalg import matrix_power as mp\n",
    "\n",
    "P=np.array([\n",
    "    [0.5, 0.5],\n",
    "    [0.0, 1.0]\n",
    "])\n",
    "mp(P,1000)"
   ]
  },
  {
   "cell_type": "code",
   "execution_count": 7,
   "metadata": {},
   "outputs": [
    {
     "data": {
      "text/plain": [
       "array([[   2.,  999.],\n",
       "       [   0., 1001.]])"
      ]
     },
     "execution_count": 7,
     "metadata": {},
     "output_type": "execute_result"
    }
   ],
   "source": [
    "series_sum = 0\n",
    "for i in range(1001):\n",
    "    series_sum+=mp(P,i)\n",
    "series_sum"
   ]
  },
  {
   "cell_type": "markdown",
   "metadata": {},
   "source": [
    "$$lim_{n\\rightarrow\\infty}P^{n}=\\left(\\begin{array}{cc}{0} & {1} \\\\ 0 & {1}\\end{array}\\right)$$\n",
    "\n",
    "$$lim_{n\\rightarrow\\infty}\\sum_{n-0}^{\\infty}P^{n}=\\left(\\begin{array}{cc}{2} & {\\infty} \\\\ 0 & {\\infty}\\end{array}\\right)$$"
   ]
  }
 ],
 "metadata": {
  "kernelspec": {
   "display_name": "Python 3",
   "language": "python",
   "name": "python3"
  },
  "language_info": {
   "codemirror_mode": {
    "name": "ipython",
    "version": 3
   },
   "file_extension": ".py",
   "mimetype": "text/x-python",
   "name": "python",
   "nbconvert_exporter": "python",
   "pygments_lexer": "ipython3",
   "version": "3.7.4"
  }
 },
 "nbformat": 4,
 "nbformat_minor": 2
}
