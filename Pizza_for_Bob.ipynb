{
 "cells": [
  {
   "cell_type": "markdown",
   "metadata": {},
   "source": [
    "### Bob's Pizza Probability \n",
    "#### The use of total expectation law in a discrete case\n",
    "\n",
    "*Every day Bob goes to the pizza shop, orders a slice of pizza, and\n",
    "picks a topping—pepper, pepperoni, pineapple, prawns, or prosciutto—uniformly at random. On the day that Bob first picks pineapple, find the expected number of prior days in which he picked pepperoni.*\n",
    "\n",
    "**The analytic solution is provided in the notes**"
   ]
  },
  {
   "cell_type": "code",
   "execution_count": 13,
   "metadata": {},
   "outputs": [],
   "source": [
    "import numpy as np\n",
    "\n",
    "topping = [\"pepper\", \"pepperoni\", \"pineapple\", \"prawns\", \"prosciutto\"]\n",
    "\n",
    "def pineapple_pizza():\n",
    "    global topping\n",
    "    pepperoni_days=0 #num of prior days Bob ordered pepperoni\n",
    "    current = np.random.choice(topping)\n",
    "    while (current!=\"pineapple\"):\n",
    "        if current==\"pepperoni\":\n",
    "            pepperoni_days+=1\n",
    "        current = np.random.choice(topping)\n",
    "    return pepperoni_days"
   ]
  },
  {
   "cell_type": "code",
   "execution_count": 14,
   "metadata": {},
   "outputs": [
    {
     "name": "stdout",
     "output_type": "stream",
     "text": [
      "Estimated expectation is: 0.992\n"
     ]
    }
   ],
   "source": [
    "# Run it 1000 times and calculate the mean of pepperoni_days\n",
    "dayslst = [pineapple_pizza() for i in range(10000)]\n",
    "print(\"Estimated expectation is: {}\".format(np.mean(dayslst)))"
   ]
  },
  {
   "cell_type": "markdown",
   "metadata": {},
   "source": [
    "**True expectation is 1**"
   ]
  }
 ],
 "metadata": {
  "kernelspec": {
   "display_name": "Python 3",
   "language": "python",
   "name": "python3"
  },
  "language_info": {
   "codemirror_mode": {
    "name": "ipython",
    "version": 3
   },
   "file_extension": ".py",
   "mimetype": "text/x-python",
   "name": "python",
   "nbconvert_exporter": "python",
   "pygments_lexer": "ipython3",
   "version": "3.7.4"
  }
 },
 "nbformat": 4,
 "nbformat_minor": 2
}
