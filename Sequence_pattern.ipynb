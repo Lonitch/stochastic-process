{
 "cells": [
  {
   "cell_type": "markdown",
   "metadata": {},
   "source": [
    "### Pattern of a Sequence of Experiments\n",
    "\n",
    "**In the notes, it is shown that we can find the expected number of steps until the desired pattern first appeared, by using setting the pattern as absorbing boundary of the markov chain**\n",
    "\n",
    "*Here, we use code to find the expected steps before we get a sequence of HTHTH by flipping a biased coin*"
   ]
  },
  {
   "cell_type": "code",
   "execution_count": 26,
   "metadata": {},
   "outputs": [],
   "source": [
    "import numpy as np\n",
    "\n",
    "pattern = [1,0,1,0,1]\n",
    "# Probability of H is 2/3\n",
    "ph = 2/3\n",
    "\n",
    "def flip_sequence(pr):\n",
    "    global pattern\n",
    "    n = len(pattern)\n",
    "    curr=[]\n",
    "    count = 0\n",
    "    while True:\n",
    "        if len(curr)==5:\n",
    "            if np.array_equal(pattern,curr):\n",
    "                return count\n",
    "            else:\n",
    "                curr = curr[1:]\n",
    "        curr.append(np.random.choice([1,0], p=[pr, 1-pr]))\n",
    "        count+=1"
   ]
  },
  {
   "cell_type": "code",
   "execution_count": 28,
   "metadata": {},
   "outputs": [
    {
     "name": "stdout",
     "output_type": "stream",
     "text": [
      "expectation is 38.477\n"
     ]
    }
   ],
   "source": [
    "# Repeat, and calculate mean\n",
    "rep = 10000\n",
    "expectation = 0\n",
    "for i in range(rep):\n",
    "    expectation+=flip_sequence(ph)\n",
    "print(\"expectation is {}\".format(np.around(expectation/rep,3)))"
   ]
  },
  {
   "cell_type": "markdown",
   "metadata": {},
   "source": [
    "**True expectation is 36.625**"
   ]
  }
 ],
 "metadata": {
  "kernelspec": {
   "display_name": "Python 3",
   "language": "python",
   "name": "python3"
  },
  "language_info": {
   "codemirror_mode": {
    "name": "ipython",
    "version": 3
   },
   "file_extension": ".py",
   "mimetype": "text/x-python",
   "name": "python",
   "nbconvert_exporter": "python",
   "pygments_lexer": "ipython3",
   "version": "3.7.4"
  }
 },
 "nbformat": 4,
 "nbformat_minor": 2
}
