{
 "cells": [
  {
   "cell_type": "markdown",
   "metadata": {},
   "source": [
    "**Simulate the total progeny for a branching process whose offspring distribution is Poisson with parameter $\\lambda$ = 0.60. Estimate the mean and variance of the total progeny distribution.**"
   ]
  },
  {
   "cell_type": "code",
   "execution_count": 49,
   "metadata": {},
   "outputs": [],
   "source": [
    "import numpy as np\n",
    "\n",
    "def branch(g,n0=1):\n",
    "    z=n0\n",
    "    tot = 1\n",
    "    for i in range(g):\n",
    "        z = sum(np.random.poisson(lam=0.6, size=z))\n",
    "        if z==0:\n",
    "            return tot\n",
    "        tot+=z\n",
    "    return tot"
   ]
  },
  {
   "cell_type": "code",
   "execution_count": 50,
   "metadata": {},
   "outputs": [
    {
     "name": "stdout",
     "output_type": "stream",
     "text": [
      "mean population after 50 generations: 2.49272, and its variance is 9.2638870016\n"
     ]
    }
   ],
   "source": [
    "rep = 100000\n",
    "g0 = 50\n",
    "simlst = []\n",
    "for j in range(rep):\n",
    "    simlst.append(branch(g0))\n",
    "print(\"mean population after 50 generations: {}, and its variance is {}\".format(np.mean(simlst),np.var(simlst)))"
   ]
  }
 ],
 "metadata": {
  "kernelspec": {
   "display_name": "Python 3",
   "language": "python",
   "name": "python3"
  },
  "language_info": {
   "codemirror_mode": {
    "name": "ipython",
    "version": 3
   },
   "file_extension": ".py",
   "mimetype": "text/x-python",
   "name": "python",
   "nbconvert_exporter": "python",
   "pygments_lexer": "ipython3",
   "version": "3.7.4"
  }
 },
 "nbformat": 4,
 "nbformat_minor": 2
}
