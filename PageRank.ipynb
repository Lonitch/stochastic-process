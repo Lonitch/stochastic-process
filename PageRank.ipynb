{
 "cells": [
  {
   "cell_type": "markdown",
   "metadata": {},
   "source": [
    "### Google's PageRank \n",
    "**Google’s PageRank search algorithm is based on the random surfer model, which is a random walk on the webgraph.**\n",
    "Here we demonstrate a way to handle dangling nodes and  potential stuck in some subgraph. The detailed analysis is shown in notes.\n",
    "\n",
    "A simplified network is first described by the following matrix\n",
    "$$\n",
    "\\left(\\begin{array}{ccccccc}{0} & {0} & {0} & {0} & {1 / 2} & {1 / 2} & {0} \\\\ {1 / 3} & {0} & {1 / 3} & {0} & {0} & {1 / 3} & {0} \\\\ {0} & {0} & {0} & {1 / 2} & {0} & {1 / 2} & {0} \\\\ {0} & {0} & {0} & {0} & {0} & {1} & {0} \\\\ {1 / 4} & {0} & {0} & {1 / 4} & {0} & {1 / 4} & {1 / 4} \\\\ {1 / 2} & {1 / 2} & {0} & {0} & {0} & {0} & {0} \\\\ {0} & {0} & {0} & {0} & {0} & {0} & {0}\\end{array}\\right)\n",
    "$$\n",
    "where the last row represents a dangling node."
   ]
  },
  {
   "cell_type": "code",
   "execution_count": 17,
   "metadata": {},
   "outputs": [
    {
     "name": "stdout",
     "output_type": "stream",
     "text": [
      "[0.22198] [0.15271642] [0.07125255] [0.08425917] [0.1223244] [0.29349062] [0.05397684]\n"
     ]
    }
   ],
   "source": [
    "import numpy as np\n",
    "\n",
    "P0 = np.array([\n",
    "    [0,   0,   0,   0,   1/2, 1/2, 0],\n",
    "    [1/3, 0,   1/3, 0,   0,   1/3, 0],\n",
    "    [0,   0,   0,   1/2, 0,   1/2, 0],\n",
    "    [0,   0,   0,   0,   0,   1,   0],\n",
    "    [1/4, 0,   0,   1/4, 0,   1/4, 1/4],\n",
    "    [1/2, 1/2, 0,   0,   0,   0,   0],\n",
    "    [0,   0,   0,   0,   0,   0,   0]\n",
    "])\n",
    "\n",
    "# dealing with dangling nodes\n",
    "P0[-1]=1/(len(P0))\n",
    "\n",
    "# Eliminate the risk of suck in subgraphs\n",
    "A=np.ones(P0.shape)*1/(len(P0))\n",
    "\n",
    "# Damping factor is 0.85\n",
    "f = 0.85\n",
    "P = f*P0+(1-f)*A\n",
    "\n",
    "# Now find stationary distribution by calculating left eigenvector\n",
    "import scipy.sparse.linalg as sla\n",
    "eigenval, eigenvec = sla.eigs(P.transpose(), k=1, which='LM')\n",
    "stationary = eigenvec.real/np.sum(eigenvec.real)\n",
    "print(*stationary)"
   ]
  },
  {
   "cell_type": "markdown",
   "metadata": {},
   "source": [
    "**Real results are 0.2220 0.1527 0.0713 0.0843 0.1223 0.2935 0.0540**"
   ]
  }
 ],
 "metadata": {
  "kernelspec": {
   "display_name": "Python 3",
   "language": "python",
   "name": "python3"
  },
  "language_info": {
   "codemirror_mode": {
    "name": "ipython",
    "version": 3
   },
   "file_extension": ".py",
   "mimetype": "text/x-python",
   "name": "python",
   "nbconvert_exporter": "python",
   "pygments_lexer": "ipython3",
   "version": "3.7.4"
  }
 },
 "nbformat": 4,
 "nbformat_minor": 2
}
