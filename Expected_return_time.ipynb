{
 "cells": [
  {
   "cell_type": "markdown",
   "metadata": {},
   "source": [
    "### Expected Return Time\n",
    "\n",
    "Consider a Markov chain with transition matrix\n",
    "\n",
    "$$\\left(\\begin{array}{ccc}{0} & {1} & {0} \\\\ {1 / 2} & {0} & {1 / 2} \\\\ {1 / 3} & {1 / 3} & {1 / 3}\\end{array}\\right)$$\n",
    "\n",
    "for states a, b, and c. **Estimate the expected return time $E(T_i|X_0=i), i=a,b,or c$**\n",
    "\n",
    "Please find the analytical solution in the notes"
   ]
  },
  {
   "cell_type": "code",
   "execution_count": 6,
   "metadata": {},
   "outputs": [],
   "source": [
    "import numpy as np\n",
    "\n",
    "P = np.array([\n",
    "    [0.0, 1.0, 0.0],\n",
    "    [1/2, 0.0, 1/2],\n",
    "    [1/3, 1/3, 1/3]\n",
    "])\n",
    "\n",
    "state_space = [\"a\",\"b\",\"c\"]\n",
    "\n",
    "def return_time(init):\n",
    "    global P, state_space\n",
    "    next_state = np.random.choice(state_space, p=P[state_space.index(init)])\n",
    "    rt = 1\n",
    "    while init!=next_state:\n",
    "        next_state = np.random.choice(state_space, p=P[state_space.index(next_state)])\n",
    "        rt += 1\n",
    "    return rt"
   ]
  },
  {
   "cell_type": "code",
   "execution_count": 8,
   "metadata": {},
   "outputs": [
    {
     "name": "stdout",
     "output_type": "stream",
     "text": [
      "Return time for a, b, c are 3.354,2.494, and 3.33\n"
     ]
    }
   ],
   "source": [
    "rep = 10000 #repeatition time\n",
    "\n",
    "rts = np.array([0,0,0])\n",
    "for j in range(3):\n",
    "    for i in range(rep):\n",
    "        rts[j]+=return_time(state_space[j])\n",
    "rts = np.around(rts/rep,decimals=3)\n",
    "print(\"Return time for a, b, c are {},{}, and {}\".format(*rts))"
   ]
  },
  {
   "cell_type": "markdown",
   "metadata": {},
   "source": [
    "**The transition matrix has a stationary distribution of $\\pi=(3/10, 2/5, 3/10)$**"
   ]
  }
 ],
 "metadata": {
  "kernelspec": {
   "display_name": "Python 3",
   "language": "python",
   "name": "python3"
  },
  "language_info": {
   "codemirror_mode": {
    "name": "ipython",
    "version": 3
   },
   "file_extension": ".py",
   "mimetype": "text/x-python",
   "name": "python",
   "nbconvert_exporter": "python",
   "pygments_lexer": "ipython3",
   "version": "3.7.4"
  }
 },
 "nbformat": 4,
 "nbformat_minor": 2
}
