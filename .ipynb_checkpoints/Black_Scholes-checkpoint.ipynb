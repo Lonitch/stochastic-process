{
 "cells": [
  {
   "cell_type": "markdown",
   "metadata": {},
   "source": [
    "The Black Scholes option price is:\n",
    "$$\n",
    "G_{0} P\\left(Z>\\frac{\\alpha-\\sigma t}{\\sqrt{t}}\\right)-e^{-r t} K P\\left(Z>\\frac{\\alpha}{\\sqrt{t}}\\right)\n",
    "$$\n",
    "where $G_0, K, Z$ are current price, strike price, and a standard normal distribution, respectively. And\n",
    "$$\n",
    "\\alpha=\\frac{\\ln \\left(K / G_{0}\\right)-\\left(r-\\sigma^{2} / 2\\right) t}{\\sigma}\n",
    "$$\n",
    "where $r$ is risk-neutral interest rate and $\\sigma$ is anualized volatility.\n",
    "\n",
    "(a) Price an option for a stock that currently sells for $\\$ 400$ and has volatility $40 \\%$. Assume that the option strike price is $\\$ 420$ and the expiration date is 90 days. Assume a risk-free interest rate of $3 \\% .$\n",
    "\n",
    "(b) For the option in (a), assume that volatility is not known. However, based on market experience, the option sells for $\\$ 30 .$ Estimate the volatility."
   ]
  },
  {
   "cell_type": "code",
   "execution_count": 6,
   "metadata": {},
   "outputs": [],
   "source": [
    "from scipy.stats import norm\n",
    "import numpy as np\n",
    "from scipy.optimize import bisect\n",
    "\n",
    "G0 = 400\n",
    "volatility=0.4\n",
    "K = 420\n",
    "t = 90/365\n",
    "r = 0.03\n",
    "\n",
    "def calcPrice(s=volatility):\n",
    "    global G0, K, T, r, t\n",
    "    sigmaSqr = s**2\n",
    "    alpha = (np.log(K/G0)-(r-sigmaSqr/2)*t)/s\n",
    "    rv = norm()\n",
    "    return G0*(1-rv.cdf((alpha-s*t)/np.sqrt(t)))-np.exp(-r*t)*K*(1-rv.cdf(alpha/np.sqrt(t)))\n",
    "\n",
    "def calcVolatility(target):\n",
    "    global G0, K, T, r, t\n",
    "    f = lambda x:calcPrice(x)-target\n",
    "    sol = bisect(f, 0, 1)\n",
    "    return sol**2"
   ]
  },
  {
   "cell_type": "code",
   "execution_count": 7,
   "metadata": {},
   "outputs": [
    {
     "name": "stdout",
     "output_type": "stream",
     "text": [
      "Price is $24.557068380886165\n"
     ]
    }
   ],
   "source": [
    "print('Price is ${}'.format(calcPrice()))"
   ]
  },
  {
   "cell_type": "code",
   "execution_count": 8,
   "metadata": {},
   "outputs": [
    {
     "name": "stdout",
     "output_type": "stream",
     "text": [
      "$\\sigma^2$ is 0.2199053563473412\n"
     ]
    },
    {
     "name": "stderr",
     "output_type": "stream",
     "text": [
      "c:\\users\\liu_s\\desktop\\code\\.venv\\lib\\site-packages\\ipykernel_launcher.py:14: RuntimeWarning: divide by zero encountered in double_scalars\n",
      "  \n"
     ]
    }
   ],
   "source": [
    "print(r'$\\sigma^2$ is {}'.format(calcVolatility(30)))"
   ]
  }
 ],
 "metadata": {
  "kernelspec": {
   "display_name": "Python 3",
   "language": "python",
   "name": "python3"
  },
  "language_info": {
   "codemirror_mode": {
    "name": "ipython",
    "version": 3
   },
   "file_extension": ".py",
   "mimetype": "text/x-python",
   "name": "python",
   "nbconvert_exporter": "python",
   "pygments_lexer": "ipython3",
   "version": "3.7.4"
  }
 },
 "nbformat": 4,
 "nbformat_minor": 2
}
