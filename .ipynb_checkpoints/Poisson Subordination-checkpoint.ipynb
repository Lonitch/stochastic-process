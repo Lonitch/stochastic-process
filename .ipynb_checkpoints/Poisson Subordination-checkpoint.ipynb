{
 "cells": [
  {
   "cell_type": "markdown",
   "metadata": {},
   "source": [
    "This code simulates the poisson subordination described at the end of Chp 7 in the notes"
   ]
  },
  {
   "cell_type": "code",
   "execution_count": 2,
   "metadata": {},
   "outputs": [],
   "source": [
    "import numpy as np\n",
    "\n",
    "Q = np.array([[-2, 1, 1], [1, -3, 2],[0, 1, -1]])\n",
    "lammax=3\n",
    "R = 1/lammax*Q+np.eye(3)"
   ]
  },
  {
   "cell_type": "code",
   "execution_count": 3,
   "metadata": {},
   "outputs": [
    {
     "data": {
      "text/plain": [
       "array([[0.33333333, 0.33333333, 0.33333333],\n",
       "       [0.33333333, 0.        , 0.66666667],\n",
       "       [0.        , 0.33333333, 0.66666667]])"
      ]
     },
     "execution_count": 3,
     "metadata": {},
     "output_type": "execute_result"
    }
   ],
   "source": [
    "R"
   ]
  },
  {
   "cell_type": "code",
   "execution_count": 6,
   "metadata": {},
   "outputs": [],
   "source": [
    "from scipy.stats import expon\n",
    "\n",
    "def evolve(target=1.5):\n",
    "    global lammax\n",
    "    s = 0\n",
    "    t = 0\n",
    "    while t<target:\n",
    "        t+= expon.rvs()/lammax\n",
    "        s = np.random.choice([0,1,2], p=R[s])\n",
    "    return s"
   ]
  },
  {
   "cell_type": "code",
   "execution_count": 7,
   "metadata": {},
   "outputs": [
    {
     "name": "stdout",
     "output_type": "stream",
     "text": [
      "Propability distribution of states at t=1.5 are 0.1386,0.2494,0.612 for state 1, 2, and 3\n"
     ]
    }
   ],
   "source": [
    "from collections import defaultdict\n",
    "rep = 10000\n",
    "simlst = defaultdict(int)\n",
    "for i in range(rep):\n",
    "    simlst[evolve()]+=1\n",
    "print('Propability distribution of states at t=1.5 are {},{},{} for state 1, 2, and 3'.format(\n",
    "simlst[0]/rep, simlst[1]/rep, simlst[2]/rep))"
   ]
  },
  {
   "cell_type": "markdown",
   "metadata": {},
   "source": [
    "The analytical results are `0.163 0.249 0.588`"
   ]
  }
 ],
 "metadata": {
  "kernelspec": {
   "display_name": "Python 3",
   "language": "python",
   "name": "python3"
  },
  "language_info": {
   "codemirror_mode": {
    "name": "ipython",
    "version": 3
   },
   "file_extension": ".py",
   "mimetype": "text/x-python",
   "name": "python",
   "nbconvert_exporter": "python",
   "pygments_lexer": "ipython3",
   "version": "3.7.4"
  }
 },
 "nbformat": 4,
 "nbformat_minor": 2
}
