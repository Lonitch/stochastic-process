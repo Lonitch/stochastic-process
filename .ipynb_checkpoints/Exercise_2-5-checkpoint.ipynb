{
 "cells": [
  {
   "cell_type": "markdown",
   "metadata": {},
   "source": [
    "### Exercise 2.5\n",
    "from Robert Dobrow's book"
   ]
  },
  {
   "cell_type": "code",
   "execution_count": 6,
   "metadata": {},
   "outputs": [],
   "source": [
    "import numpy as np\n",
    "from numpy.linalg import matrix_power as mp\n",
    "\n",
    "#Transition matrix\n",
    "P = np.array([\n",
    "    [0.0,  1.0, 0.0,  0.0],\n",
    "    [0.25, 0.0, 0.75, 0.0],\n",
    "    [0.0, 0.25, 0, 0.75],\n",
    "    [0, 0, 1, 0]\n",
    "])"
   ]
  },
  {
   "cell_type": "code",
   "execution_count": 7,
   "metadata": {},
   "outputs": [
    {
     "data": {
      "text/plain": [
       "0.296875"
      ]
     },
     "execution_count": 7,
     "metadata": {},
     "output_type": "execute_result"
    }
   ],
   "source": [
    "# P(X7=1|X0=3, X2=2, X4=2)=P(X3=1|X0=2)\n",
    "mp(P,3)[2][1]"
   ]
  },
  {
   "cell_type": "code",
   "execution_count": 21,
   "metadata": {},
   "outputs": [
    {
     "data": {
      "text/plain": [
       "0.103271484375"
      ]
     },
     "execution_count": 21,
     "metadata": {},
     "output_type": "execute_result"
    }
   ],
   "source": [
    "# P(X3=1, X5=3)=(alpha*P^3)_1*P^2_12\n",
    "alpha = np.array([1/4,1/4,1/4,1/4])\n",
    "np.dot(alpha,mp(P,3))[1]*mp(P,2)[1][3]"
   ]
  }
 ],
 "metadata": {
  "kernelspec": {
   "display_name": "Python 3",
   "language": "python",
   "name": "python3"
  },
  "language_info": {
   "codemirror_mode": {
    "name": "ipython",
    "version": 3
   },
   "file_extension": ".py",
   "mimetype": "text/x-python",
   "name": "python",
   "nbconvert_exporter": "python",
   "pygments_lexer": "ipython3",
   "version": "3.7.4"
  }
 },
 "nbformat": 4,
 "nbformat_minor": 2
}
