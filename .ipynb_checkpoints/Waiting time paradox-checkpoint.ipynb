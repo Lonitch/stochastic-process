{
 "cells": [
  {
   "cell_type": "markdown",
   "metadata": {},
   "source": [
    "A Poisson process with parameter $\\lambda=1/10$ is generated on `[0, 200]`. Lisa arrives at the bus stop at time t = 50. This simulation shows her average awaiting time is about 10 minutes."
   ]
  },
  {
   "cell_type": "code",
   "execution_count": 18,
   "metadata": {},
   "outputs": [],
   "source": [
    "from numpy.random import poisson, uniform\n",
    "import numpy as np\n",
    "\n",
    "def waiting(t, lam=1/10):\n",
    "    n = poisson(lam*200)\n",
    "    b = np.sort(uniform(size=n, low=0, high=200))\n",
    "    for i in b:\n",
    "        if i>t:\n",
    "            return i-t\n",
    "    return t"
   ]
  },
  {
   "cell_type": "code",
   "execution_count": 20,
   "metadata": {},
   "outputs": [
    {
     "name": "stdout",
     "output_type": "stream",
     "text": [
      "Avg waiting for lambda=0.1 is 10.009102\n"
     ]
    }
   ],
   "source": [
    "lisa = 50\n",
    "rep = 100000\n",
    "wtime = 0\n",
    "for a in range(rep):\n",
    "    wtime+=waiting(lisa)\n",
    "print(\"Avg waiting for lambda=0.1 is {}\".format(round(wtime/rep,6)))"
   ]
  }
 ],
 "metadata": {
  "kernelspec": {
   "display_name": "Python 3",
   "language": "python",
   "name": "python3"
  },
  "language_info": {
   "codemirror_mode": {
    "name": "ipython",
    "version": 3
   },
   "file_extension": ".py",
   "mimetype": "text/x-python",
   "name": "python",
   "nbconvert_exporter": "python",
   "pygments_lexer": "ipython3",
   "version": "3.7.4"
  }
 },
 "nbformat": 4,
 "nbformat_minor": 2
}
