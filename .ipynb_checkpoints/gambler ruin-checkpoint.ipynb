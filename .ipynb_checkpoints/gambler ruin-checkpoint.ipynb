{
 "cells": [
  {
   "cell_type": "markdown",
   "metadata": {},
   "source": [
    "## Gambler's ruin \n",
    "*A gambler startswith k dollars. On each play a fair coin is tossed and the gambler wins $1 if heads occurs, or loses $1 if tails occurs. The gambler stops when he reaches $n (n > k) or loses all his money. Find the probability that the gambler will eventually lose.\n",
    "\n",
    "The analytical solution is listed in the notes. Here I provide python code to simulate this process."
   ]
  },
  {
   "cell_type": "code",
   "execution_count": 1,
   "metadata": {},
   "outputs": [],
   "source": [
    "import numpy as np\n",
    "import scipy\n",
    "\n",
    "k=20 # starting stake\n",
    "n=60 # stake value to stop the gambler\n",
    "p=0.5 # unbiased dice \n",
    "\n",
    "def gamble(s0, s1, pr):\n",
    "    # This function simulates how the stake of this gambler \n",
    "    # could change\n",
    "    stake = s0\n",
    "    while (stake>0 and stake<s1):\n",
    "        stake += np.random.choice([-1,1], p=[1-pr, pr])\n",
    "    if stake==0:\n",
    "        return 1 # the gambler is ruined\n",
    "    else:\n",
    "        return 0 # the gambler got what he want"
   ]
  },
  {
   "cell_type": "code",
   "execution_count": 2,
   "metadata": {},
   "outputs": [
    {
     "name": "stdout",
     "output_type": "stream",
     "text": [
      "Estimated probability of ruin is 0.645\n"
     ]
    }
   ],
   "source": [
    "# repeat the gamble game for 1000 times, \n",
    "# and calculate the relative frequency of gambler's ruin\n",
    "simlst = [gamble(k,n,p) for i in range(1000)]\n",
    "print(\"Estimated probability of ruin is {}\".format(np.mean(simlst)))"
   ]
  },
  {
   "cell_type": "markdown",
   "metadata": {},
   "source": [
    "### Exact probability of ruin is 2/3."
   ]
  }
 ],
 "metadata": {
  "kernelspec": {
   "display_name": "Python 3",
   "language": "python",
   "name": "python3"
  },
  "language_info": {
   "codemirror_mode": {
    "name": "ipython",
    "version": 3
   },
   "file_extension": ".py",
   "mimetype": "text/x-python",
   "name": "python",
   "nbconvert_exporter": "python",
   "pygments_lexer": "ipython3",
   "version": "3.7.4"
  }
 },
 "nbformat": 4,
 "nbformat_minor": 2
}
