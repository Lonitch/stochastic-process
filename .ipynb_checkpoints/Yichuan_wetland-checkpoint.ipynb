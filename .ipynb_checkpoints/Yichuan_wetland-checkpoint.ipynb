{
 "cells": [
  {
   "cell_type": "markdown",
   "metadata": {},
   "source": [
    "### Yichuan Wetland Evolution\n",
    "*Changes in the distribution of wetlands in Yinchuan Plain, China are\n",
    "studied in Zhang et al. (2011). A Markov model is developed to track yearly changes in wetland type. Researchers measured annual distributions of wetland type throughout the region and estimated the Markov transition matrix*"
   ]
  },
  {
   "cell_type": "code",
   "execution_count": 1,
   "metadata": {},
   "outputs": [],
   "source": [
    "import numpy as np\n",
    "\n",
    "P = np.array([\n",
    "    [0.342, 0.005, 0.001, 0.020, 0.632],\n",
    "    [0.001, 0.252, 0.107, 0.005, 0.635],\n",
    "    [0.000, 0.043, 0.508, 0.015, 0.434],\n",
    "    [0.001, 0.002, 0.004, 0.665, 0.328],\n",
    "    [0.007, 0.007, 0.007, 0.025, 0.954]\n",
    "])"
   ]
  },
  {
   "cell_type": "code",
   "execution_count": 5,
   "metadata": {},
   "outputs": [
    {
     "data": {
      "text/plain": [
       "array([[0.00969954, 0.00953264, 0.01536746, 0.06741414, 0.89798622],\n",
       "       [0.00967095, 0.0096099 , 0.01588866, 0.06677973, 0.89805076],\n",
       "       [0.00963953, 0.00971459, 0.0166678 , 0.06666227, 0.8973158 ],\n",
       "       [0.00945903, 0.00936334, 0.01508569, 0.07919705, 0.88689489],\n",
       "       [0.0096767 , 0.00953649, 0.0154089 , 0.06758242, 0.89779549]])"
      ]
     },
     "execution_count": 5,
     "metadata": {},
     "output_type": "execute_result"
    }
   ],
   "source": [
    "# After 10 years\n",
    "P10 = np.linalg.matrix_power(P,10)\n",
    "P10"
   ]
  },
  {
   "cell_type": "code",
   "execution_count": 3,
   "metadata": {},
   "outputs": [
    {
     "data": {
      "text/plain": [
       "array([[0.00966142, 0.00952806, 0.01541038, 0.06835286, 0.89704729],\n",
       "       [0.00966142, 0.00952806, 0.01541038, 0.06835286, 0.89704729],\n",
       "       [0.00966142, 0.00952806, 0.01541038, 0.06835286, 0.89704729],\n",
       "       [0.00966142, 0.00952806, 0.01541038, 0.06835286, 0.89704729],\n",
       "       [0.00966142, 0.00952806, 0.01541038, 0.06835286, 0.89704729]])"
      ]
     },
     "execution_count": 3,
     "metadata": {},
     "output_type": "execute_result"
    }
   ],
   "source": [
    "# After 50 years\n",
    "P50 = np.linalg.matrix_power(P,50)\n",
    "P50"
   ]
  },
  {
   "cell_type": "code",
   "execution_count": 4,
   "metadata": {},
   "outputs": [
    {
     "data": {
      "text/plain": [
       "array([[0.00966142, 0.00952806, 0.01541038, 0.06835286, 0.89704729],\n",
       "       [0.00966142, 0.00952806, 0.01541038, 0.06835286, 0.89704729],\n",
       "       [0.00966142, 0.00952806, 0.01541038, 0.06835286, 0.89704729],\n",
       "       [0.00966142, 0.00952806, 0.01541038, 0.06835286, 0.89704729],\n",
       "       [0.00966142, 0.00952806, 0.01541038, 0.06835286, 0.89704729]])"
      ]
     },
     "execution_count": 4,
     "metadata": {},
     "output_type": "execute_result"
    }
   ],
   "source": [
    "# After 100 years\n",
    "P100 = np.linalg.matrix_power(P,100)\n",
    "P100"
   ]
  },
  {
   "cell_type": "markdown",
   "metadata": {},
   "source": [
    "**The matrix converges arount 100 years**"
   ]
  }
 ],
 "metadata": {
  "kernelspec": {
   "display_name": "Python 3",
   "language": "python",
   "name": "python3"
  },
  "language_info": {
   "codemirror_mode": {
    "name": "ipython",
    "version": 3
   },
   "file_extension": ".py",
   "mimetype": "text/x-python",
   "name": "python",
   "nbconvert_exporter": "python",
   "pygments_lexer": "ipython3",
   "version": "3.7.4"
  }
 },
 "nbformat": 4,
 "nbformat_minor": 2
}
