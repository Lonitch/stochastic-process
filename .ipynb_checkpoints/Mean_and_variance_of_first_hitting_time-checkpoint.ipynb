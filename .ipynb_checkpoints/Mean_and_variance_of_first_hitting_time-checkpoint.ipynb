{
 "cells": [
  {
   "cell_type": "markdown",
   "metadata": {},
   "source": [
    "Let $\\left(X_{t}\\right)_{t \\geq 0}$ be a Brownian motion with drift $\\mu=0.5$ and variance $\\sigma^{2}=1 .$ Consider the first hitting time $T$ of level $a=10 .$ Exact results are\n",
    "$$\n",
    "E(T)=a / \\mu=20 \\quad \\text { and } \\operatorname{Var}(T)=a \\sigma^{2} / \\mu^{3}=80\n",
    "$$\n",
    "Simulated results are based on $1,000$ trials of a Brownian motion process on $[0,80] .$"
   ]
  },
  {
   "cell_type": "code",
   "execution_count": 54,
   "metadata": {},
   "outputs": [],
   "source": [
    "from scipy.stats import norm\n",
    "import numpy as np\n",
    "\n",
    "a=10\n",
    "T = 80\n",
    "n = 12600 # resolution of time step, large n causes variance diverge.\n",
    "Drift=0.5\n",
    "Sigma=1\n",
    "\n",
    "def evolve(target, scale):\n",
    "    global Drift,Sigma, n\n",
    "    rv = norm(scale=scale)\n",
    "    bm = np.cumsum([0]+rv.rvs(size=n-1).tolist())\n",
    "    tarr = np.linspace(0,T,n)\n",
    "    bs = Drift*tarr+Sigma**2*bm\n",
    "    bs = bs.tolist()\n",
    "    for i, b in enumerate(bs):\n",
    "        if b>a:\n",
    "            return tarr[i], bs\n",
    "    return -1, bs"
   ]
  },
  {
   "cell_type": "code",
   "execution_count": 55,
   "metadata": {},
   "outputs": [
    {
     "name": "stdout",
     "output_type": "stream",
     "text": [
      "Mean is 19.94535129772204, variance is 82.17901457178026\n"
     ]
    }
   ],
   "source": [
    "rep = 1000\n",
    "simlst = []\n",
    "for j in range(rep):\n",
    "    t,temp=evolve(a, T/N)\n",
    "    simlst.append(t)\n",
    "print('Mean is {}, variance is {}'.format(np.mean(simlst), np.var(simlst)))"
   ]
  },
  {
   "cell_type": "code",
   "execution_count": 56,
   "metadata": {},
   "outputs": [
    {
     "data": {
      "text/plain": [
       "<matplotlib.lines.Line2D at 0x1f838851988>"
      ]
     },
     "execution_count": 56,
     "metadata": {},
     "output_type": "execute_result"
    },
    {
     "data": {
      "image/png": "[encoded data removed]",
      "text/plain": [
       "<Figure size 432x288 with 1 Axes>"
      ]
     },
     "metadata": {
      "needs_background": "light"
     },
     "output_type": "display_data"
    }
   ],
   "source": [
    "%matplotlib inline\n",
    "import matplotlib.pyplot as plt\n",
    "\n",
    "plt.plot(np.linspace(0,T,n),temp,'-')\n",
    "plt.xlabel('Time')\n",
    "plt.ylabel('$\\mu t+\\sigma^2B_t$')\n",
    "plt.axvline(x=t, color='r', linestyle='--')\n",
    "plt.axhline(y=a, color='r', linestyle='--')"
   ]
  }
 ],
 "metadata": {
  "kernelspec": {
   "display_name": "Python 3",
   "language": "python",
   "name": "python3"
  },
  "language_info": {
   "codemirror_mode": {
    "name": "ipython",
    "version": 3
   },
   "file_extension": ".py",
   "mimetype": "text/x-python",
   "name": "python",
   "nbconvert_exporter": "python",
   "pygments_lexer": "ipython3",
   "version": "3.7.4"
  }
 },
 "nbformat": 4,
 "nbformat_minor": 2
}
