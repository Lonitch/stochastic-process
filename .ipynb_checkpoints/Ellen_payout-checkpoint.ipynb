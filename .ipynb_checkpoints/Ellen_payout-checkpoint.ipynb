{
 "cells": [
  {
   "cell_type": "markdown",
   "metadata": {},
   "source": [
    "## Ellen's payout\n",
    "\n",
    "*Ellen’s insurance will pay for a medical expense subject to a \\\\$100 deductible. Assume that the amount of the expense is exponentially distributed with mean \\\\$500. Find the expectation and standard deviation of the payout*\n",
    "\n",
    "**Analytical solution is in the notes**"
   ]
  },
  {
   "cell_type": "code",
   "execution_count": 2,
   "metadata": {},
   "outputs": [],
   "source": [
    "import numpy as np\n",
    "\n",
    "\n",
    "def payout():\n",
    "    temp = np.random.exponential(scale=500)\n",
    "    if temp>=100:\n",
    "        return temp-100\n",
    "    else:\n",
    "        return temp"
   ]
  },
  {
   "cell_type": "code",
   "execution_count": 6,
   "metadata": {},
   "outputs": [
    {
     "name": "stdout",
     "output_type": "stream",
     "text": [
      "expectation and std of the payout are 418.35418229794305 and 485.34970425989763\n"
     ]
    }
   ],
   "source": [
    "simlst = [payout() for i in range(1000000)]\n",
    "print(\"expectation and std of the payout are {} and {}\".format(np.mean(simlst), np.std(simlst)))"
   ]
  },
  {
   "cell_type": "markdown",
   "metadata": {},
   "source": [
    "**True expectation:409.365**\n",
    "**True std: 491.72**"
   ]
  }
 ],
 "metadata": {
  "kernelspec": {
   "display_name": "Python 3",
   "language": "python",
   "name": "python3"
  },
  "language_info": {
   "codemirror_mode": {
    "name": "ipython",
    "version": 3
   },
   "file_extension": ".py",
   "mimetype": "text/x-python",
   "name": "python",
   "nbconvert_exporter": "python",
   "pygments_lexer": "ipython3",
   "version": "3.7.4"
  }
 },
 "nbformat": 4,
 "nbformat_minor": 2
}
