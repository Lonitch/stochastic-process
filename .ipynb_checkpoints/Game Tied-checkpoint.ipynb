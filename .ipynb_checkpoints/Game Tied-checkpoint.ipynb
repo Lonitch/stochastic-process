{
 "cells": [
  {
   "cell_type": "markdown",
   "metadata": {},
   "source": [
    "Goals occur in a soccer game according to a Poisson process. The average total number of goals scored for a 90-minute match is 2.68. Assume that two teams are evenly matched. Use simulation to estimate the probability both teams will score the same number of goals. Compare with the theoretical result."
   ]
  },
  {
   "cell_type": "code",
   "execution_count": 32,
   "metadata": {},
   "outputs": [],
   "source": [
    "from scipy.stats import poisson\n",
    "import numpy as np\n",
    "\n",
    "LAM = 2.68\n",
    "# Lambda for team1\n",
    "Lam1 = LAM*0.5\n",
    "# Lambda for team2\n",
    "Lam2 = LAM*0.5\n",
    "def compare(l1, l2):\n",
    "    n1 = poisson.rvs(mu=Lam1)\n",
    "    n2 = poisson.rvs(mu=Lam2)\n",
    "    if n1==n2:\n",
    "        return 1\n",
    "    else:\n",
    "        return 0"
   ]
  },
  {
   "cell_type": "code",
   "execution_count": 35,
   "metadata": {},
   "outputs": [
    {
     "name": "stdout",
     "output_type": "stream",
     "text": [
      "The possibility we have a tied game is 0.2561\n"
     ]
    }
   ],
   "source": [
    "rep = 10000\n",
    "num = 0\n",
    "for i in range(rep):\n",
    "    num+=compare(Lam1,Lam2)\n",
    "print(\"The possibility we have a tied game is {}\".format(num/rep))"
   ]
  },
  {
   "cell_type": "markdown",
   "metadata": {},
   "source": [
    "Analytical solution is 0.259."
   ]
  }
 ],
 "metadata": {
  "kernelspec": {
   "display_name": "Python 3",
   "language": "python",
   "name": "python3"
  },
  "language_info": {
   "codemirror_mode": {
    "name": "ipython",
    "version": 3
   },
   "file_extension": ".py",
   "mimetype": "text/x-python",
   "name": "python",
   "nbconvert_exporter": "python",
   "pygments_lexer": "ipython3",
   "version": "3.7.4"
  }
 },
 "nbformat": 4,
 "nbformat_minor": 2
}
