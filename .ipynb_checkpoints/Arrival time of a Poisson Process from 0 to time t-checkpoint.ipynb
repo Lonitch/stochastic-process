{
 "cells": [
  {
   "cell_type": "markdown",
   "metadata": {},
   "source": [
    "Results for arrival times and the uniform distribution offer a new method for simulating a Poisson process with parameter $\\lambda$ on an interval $[0, t]:$\n",
    "\n",
    "1. Simulate the number of arrivals $N$ in $[0, t]$ from a Poisson distribution with parameter $\\lambda t$\n",
    "\n",
    "2. Generate $N$ i.i.d. random variables uniformly distributed on $(0, t) .$\n",
    "\n",
    "3. Sort the variables in increasing order to give the Poisson arrival times."
   ]
  },
  {
   "cell_type": "code",
   "execution_count": 1,
   "metadata": {},
   "outputs": [
    {
     "data": {
      "text/plain": [
       "array([0.1375985, 2.4146729])"
      ]
     },
     "execution_count": 1,
     "metadata": {},
     "output_type": "execute_result"
    }
   ],
   "source": [
    "import numpy as np\n",
    "\n",
    "lam = 1/2\n",
    "t = 5\n",
    "Nt = np.random.poisson(lam*t)\n",
    "arrival = np.sort(np.random.uniform(low=0, high=t, size=Nt))\n",
    "arrival"
   ]
  },
  {
   "cell_type": "code",
   "execution_count": 3,
   "metadata": {},
   "outputs": [
    {
     "data": {
      "text/plain": [
       "array([0.03429055, 0.17470527, 0.68509656, 1.12393587, 1.238667  ,\n",
       "       1.46999562, 1.92071296, 2.89042314, 3.41773199, 3.4778973 ,\n",
       "       3.49692661, 4.24423933, 4.30730257, 4.47484577])"
      ]
     },
     "execution_count": 3,
     "metadata": {},
     "output_type": "execute_result"
    }
   ],
   "source": [
    "lam = 2\n",
    "t = 5\n",
    "Nt = np.random.poisson(lam*t)\n",
    "arrival = np.sort(np.random.uniform(low=0, high=t, size=Nt))\n",
    "arrival"
   ]
  }
 ],
 "metadata": {
  "kernelspec": {
   "display_name": "Python 3",
   "language": "python",
   "name": "python3"
  },
  "language_info": {
   "codemirror_mode": {
    "name": "ipython",
    "version": 3
   },
   "file_extension": ".py",
   "mimetype": "text/x-python",
   "name": "python",
   "nbconvert_exporter": "python",
   "pygments_lexer": "ipython3",
   "version": "3.7.4"
  }
 },
 "nbformat": 4,
 "nbformat_minor": 2
}
