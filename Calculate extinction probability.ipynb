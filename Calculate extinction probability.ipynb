{
 "cells": [
  {
   "cell_type": "markdown",
   "metadata": {},
   "source": [
    "$$\n",
    "e_{n}=G\\left(e_{n-1}\\right), \\quad \\text { for } n \\geq 1\n",
    "$$\n",
    "where $e_{n}=P\\left(Z_{n}=0\\right)$ is the probability that the population goes extinct by generation $n .$ $G$ is the generating function. Since $e_{n} \\rightarrow e,$ as $n \\rightarrow \\infty$, Equation above is the basis for a numerical, recursive method to approximate the extinction probability in the supercritical case. To find $e:$\n",
    "\n",
    "1. Initialize with $e_{0} \\in(0,1) .$\n",
    "2. Successively compute $e_{n}=G\\left(e_{n-1}\\right)$, for $n \\geq 1 .$\n",
    "3. Set $e=e_{n},$ for large $n .$\n",
    "\n",
    "Use this numerical method to find the extinction probability for the following cases.\n",
    "\n",
    "(a) $a_{0}=0.8, a_{4}=0.1, a_{9}=0.1$\n",
    "\n",
    "(b) Offspring distribution is uniform on $\\{0,1, \\ldots, 10\\} .$\n",
    "\n",
    "(c) $a_{0}=0.6, a_{3}=0.2, a_{6}=0.1, a_{12}=0.1$"
   ]
  },
  {
   "cell_type": "code",
   "execution_count": 12,
   "metadata": {},
   "outputs": [],
   "source": [
    "# case a\n",
    "import random\n",
    "\n",
    "conv = 10**(-9)\n",
    "\n",
    "def G1(a):\n",
    "    return 0.8+0.1*a**4+0.1*a**9\n",
    "\n",
    "def G2(a):\n",
    "    s = 0\n",
    "    for i in range(11):\n",
    "        s+=1/11*a**i\n",
    "    return s\n",
    "\n",
    "def G3(a):\n",
    "    return 0.6 + 0.2*a**3 + 0.1*a**6 + 0.1*a**12\n",
    "\n",
    "def iteration(v,g):\n",
    "    cv = 100\n",
    "    e0 = random.random()\n",
    "    while cv>v:\n",
    "        if g==1:\n",
    "            cv = abs(e0-G1(e0))\n",
    "            e0 = G1(e0)\n",
    "        elif g==2:\n",
    "            cv = abs(e0-G2(e0))\n",
    "            e0 = G2(e0)\n",
    "        elif g==3:\n",
    "            cv = abs(e0-G3(e0))\n",
    "            e0 = G3(e0)\n",
    "    return e0"
   ]
  },
  {
   "cell_type": "code",
   "execution_count": 13,
   "metadata": {},
   "outputs": [
    {
     "name": "stdout",
     "output_type": "stream",
     "text": [
      "Extinction Pr is: 0.915202\n"
     ]
    }
   ],
   "source": [
    "print('Extinction Pr is: {}'.format(round(iteration(conv,1),6)))"
   ]
  },
  {
   "cell_type": "code",
   "execution_count": 14,
   "metadata": {},
   "outputs": [
    {
     "name": "stdout",
     "output_type": "stream",
     "text": [
      "Extinction Pr is: 0.101138\n"
     ]
    }
   ],
   "source": [
    "print('Extinction Pr is: {}'.format(round(iteration(conv,2),6)))"
   ]
  },
  {
   "cell_type": "code",
   "execution_count": 15,
   "metadata": {},
   "outputs": [
    {
     "name": "stdout",
     "output_type": "stream",
     "text": [
      "Extinction Pr is: 0.670026\n"
     ]
    }
   ],
   "source": [
    "print('Extinction Pr is: {}'.format(round(iteration(conv,3),6)))"
   ]
  }
 ],
 "metadata": {
  "kernelspec": {
   "display_name": "Python 3",
   "language": "python",
   "name": "python3"
  },
  "language_info": {
   "codemirror_mode": {
    "name": "ipython",
    "version": 3
   },
   "file_extension": ".py",
   "mimetype": "text/x-python",
   "name": "python",
   "nbconvert_exporter": "python",
   "pygments_lexer": "ipython3",
   "version": "3.7.4"
  }
 },
 "nbformat": 4,
 "nbformat_minor": 2
}
