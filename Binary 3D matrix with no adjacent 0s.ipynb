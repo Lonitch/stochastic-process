{
 "cells": [
  {
   "cell_type": "markdown",
   "metadata": {},
   "source": [
    "This is an extension to the toy problem listed in Chapter 5 of Robert Dobrow's Stochastic process book. \n",
    "Here we have a `n*n*n` binary matrix, B. At the beginning, 1s and 0s are distributed in a chessboard manner.\n",
    "At each Monte Carlo step:\n",
    "    \n",
    "    randomly pick a location (i,j) in the matrix\n",
    "    if B[x][y][z]==0:\n",
    "        B[x][y][z]=1\n",
    "    else:\n",
    "        B[x][y][z]=0\n",
    "        if 0 is at any of B[x+1][y][z],B[x][y+1][z],B[x][y][z+1],B[x-1][y][z],B[x][y-1][z],B[x][y][z-1]:\n",
    "            B[x][y][z]=1\n",
    "    \n",
    "The step shown above is then repeated for multiple times till the number of 1s in the matrix hits the target.\n",
    "\n",
    "Notice: this method can also start from a matrix with only 1s in it.\n",
    "\n",
    "**Attention: Please cite this paper if you want to use the method described here: Liu, Sizhe, and Kyle C. Smith. \"Intercalated Cation Disorder in Prussian Blue Analogues: First-Principles and Grand Canonical Analyses.\" The Journal of Physical Chemistry C 123.16 (2019): 10191-10204."
   ]
  },
  {
   "cell_type": "code",
   "execution_count": 33,
   "metadata": {},
   "outputs": [],
   "source": [
    "import numpy as np\n",
    "\n",
    "n=4\n",
    "# Prepare starting matrix\n",
    "B = np.ones((n,n,n), dtype = int)\n",
    "x = np.zeros((n, n), dtype = int)\n",
    "x[1::2, ::2] = 1\n",
    "x[::2, 1::2] = 1\n",
    "y = np.abs(x-1)\n",
    "for i in range(n):\n",
    "    if i%2==0:\n",
    "        B[:,:,i]=x\n",
    "    else:\n",
    "        B[:,:,i]=y\n",
    "        \n",
    "# Prepare neighbor array\n",
    "nbs = np.array([[1,0,0],[0,1,0],[0,0,1],[-1,0,0],[0,-1,0],[0,0,-1]])"
   ]
  },
  {
   "cell_type": "code",
   "execution_count": 34,
   "metadata": {},
   "outputs": [],
   "source": [
    "def generator(mat, target):\n",
    "    #Target must not be equal to the number of 1s in mat\n",
    "    # maximum value for target is n*n*n\n",
    "    global n, nbs\n",
    "    curr = np.sum(mat)\n",
    "    period = list(range(n))\n",
    "    while curr!=target:\n",
    "        a,b,c = np.random.choice(period, size=3, replace=True)\n",
    "        if mat[a][b][c]==0: # a 0 is picked\n",
    "            mat[a][b][c]=1\n",
    "            curr+=1\n",
    "        else: # a 1 is picked\n",
    "            tempx = a+nbs[:,0]\n",
    "            tempx = [n-1 if x_==-1 else x_ for x_ in tempx]\n",
    "            tempx = [0 if x_==n else x_ for x_ in tempx]\n",
    "            tempy = b+nbs[:,1]\n",
    "            tempy = [n-1 if y_==-1 else y_ for y_ in tempy]\n",
    "            tempy = [0 if y_==n else y_ for y_ in tempy]\n",
    "            tempz = c+nbs[:,2]\n",
    "            tempz = [n-1 if z_==-1 else z_ for z_ in tempz]\n",
    "            tempz = [0 if z_==n else z_ for z_ in tempz]\n",
    "            nn = 0\n",
    "            for t0,t1, t2 in zip(tempx, tempy, tempz):\n",
    "                if mat[t0][t1][t2]==1:\n",
    "                    nn+=1\n",
    "            if nn==6: # neighbors' are 1s.\n",
    "                mat[a][b][c]=0\n",
    "                curr-=1\n",
    "                \n",
    "    return mat"
   ]
  },
  {
   "cell_type": "code",
   "execution_count": 35,
   "metadata": {},
   "outputs": [
    {
     "data": {
      "text/plain": [
       "Text(0.5, 1.0, 'generate starting from chessboard pattern')"
      ]
     },
     "execution_count": 35,
     "metadata": {},
     "output_type": "execute_result"
    },
    {
     "data": {
      "image/png": "[encoded data removed]",
      "text/plain": [
       "<Figure size 432x288 with 1 Axes>"
      ]
     },
     "metadata": {
      "needs_background": "light"
     },
     "output_type": "display_data"
    }
   ],
   "source": [
    "import time\n",
    "%matplotlib inline\n",
    "import matplotlib.pyplot as plt\n",
    "\n",
    "tcount = []\n",
    "for i in range(33, 62):\n",
    "    start = time.time()\n",
    "    generator(B, i)\n",
    "    end = time.time()\n",
    "    tcount.append(end - start)\n",
    "\n",
    "plt.plot(list(range(33, 62)),tcount,'o-')\n",
    "plt.xlabel('# of 1s')\n",
    "plt.ylabel('generating time')\n",
    "plt.title('generate starting from chessboard pattern')"
   ]
  },
  {
   "cell_type": "markdown",
   "metadata": {},
   "source": [
    "**The plot above clearly shows that much more time is needed to generate matrix with nearly all elements are 1s.**\n",
    "*Now, let's try to start from matrix with no 0s*"
   ]
  },
  {
   "cell_type": "code",
   "execution_count": 43,
   "metadata": {},
   "outputs": [
    {
     "data": {
      "text/plain": [
       "Text(0.5, 1.0, 'generate starting from chessboard pattern')"
      ]
     },
     "execution_count": 43,
     "metadata": {},
     "output_type": "execute_result"
    },
    {
     "data": {
      "image/png": "[encoded data removed]",
      "text/plain": [
       "<Figure size 432x288 with 1 Axes>"
      ]
     },
     "metadata": {
      "needs_background": "light"
     },
     "output_type": "display_data"
    }
   ],
   "source": [
    "B = np.ones((n,n,n), dtype = int)\n",
    "tcount = []\n",
    "for i in range(63, 36,-1):\n",
    "    start = time.time()\n",
    "    generator(B, i)\n",
    "    end = time.time()\n",
    "    tcount.append(end - start)\n",
    "\n",
    "plt.plot(list(range(63, 36,-1)),tcount,'o-')\n",
    "plt.xlabel('# of 1s')\n",
    "plt.ylabel('generating time')\n",
    "plt.title('generate starting from chessboard pattern')"
   ]
  },
  {
   "cell_type": "markdown",
   "metadata": {},
   "source": [
    "**The plot above shows that much more time is needed to generate matrix with nearly half of the elements are 0s.**"
   ]
  }
 ],
 "metadata": {
  "kernelspec": {
   "display_name": "Python 3",
   "language": "python",
   "name": "python3"
  },
  "language_info": {
   "codemirror_mode": {
    "name": "ipython",
    "version": 3
   },
   "file_extension": ".py",
   "mimetype": "text/x-python",
   "name": "python",
   "nbconvert_exporter": "python",
   "pygments_lexer": "ipython3",
   "version": "3.7.4"
  }
 },
 "nbformat": 4,
 "nbformat_minor": 2
}
